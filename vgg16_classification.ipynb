{
  "nbformat": 4,
  "nbformat_minor": 0,
  "metadata": {
    "colab": {
      "provenance": [],
      "gpuType": "T4"
    },
    "kernelspec": {
      "name": "python3",
      "display_name": "Python 3"
    },
    "language_info": {
      "name": "python"
    },
    "accelerator": "GPU"
  },
  "cells": [
    {
      "cell_type": "code",
      "source": [
        "# GITHUB: https://github.com/its-shreya-s"
      ],
      "metadata": {
        "id": "J19o_i4gkHso"
      },
      "execution_count": null,
      "outputs": []
    },
    {
      "cell_type": "markdown",
      "source": [
        "VGG-16 is a convolutional neural network that is 16 layers deep. This code uses VGG16 for binary classification of images."
      ],
      "metadata": {
        "id": "WpGlCcUfYiPf"
      }
    },
    {
      "cell_type": "code",
      "execution_count": null,
      "metadata": {
        "id": "G5emCdEiYfCt"
      },
      "outputs": [],
      "source": [
        "import numpy as np\n",
        "import tensorflow as tf\n",
        "from tensorflow.keras.applications import VGG16\n",
        "from tensorflow.keras.applications.vgg16 import preprocess_input, decode_predictions\n",
        "from tensorflow.keras.layers import Dense, Flatten\n",
        "from tensorflow.keras.models import Model\n",
        "from tensorflow.keras.optimizers import Adam\n",
        "from tensorflow.keras.preprocessing.image import ImageDataGenerator\n",
        "from tensorflow.keras.preprocessing import image\n",
        "from tensorflow.keras.optimizers import RMSprop\n",
        "import matplotlib.pyplot as plt"
      ]
    },
    {
      "cell_type": "code",
      "source": [
        "# Load pre-trained VGG-16 model without top layer\n",
        "base_model = VGG16(weights='imagenet', include_top=False, input_shape=(224, 224, 3))"
      ],
      "metadata": {
        "id": "iasT7s5AYlqT"
      },
      "execution_count": null,
      "outputs": []
    },
    {
      "cell_type": "code",
      "source": [
        "# Freeze VGG-16 layers\n",
        "for layer in base_model.layers:\n",
        "    layer.trainable = False"
      ],
      "metadata": {
        "id": "Wygv1sFjYqQx"
      },
      "execution_count": null,
      "outputs": []
    },
    {
      "cell_type": "code",
      "source": [
        "# Add custom classification layers\n",
        "x = Flatten()(base_model.output)\n",
        "x = Dense(256, activation='relu')(x)\n",
        "output = Dense(1, activation='sigmoid')(x)"
      ],
      "metadata": {
        "id": "ipbuf4AAYv2F"
      },
      "execution_count": null,
      "outputs": []
    },
    {
      "cell_type": "code",
      "source": [
        "# Create model\n",
        "model = Model(inputs=base_model.input, outputs=output)\n",
        "# Compile model\n",
        "model.compile(loss='binary_crossentropy', optimizer=Adam(learning_rate=0.01), metrics=['accuracy'])"
      ],
      "metadata": {
        "id": "fiGGX3c8Yz9n"
      },
      "execution_count": null,
      "outputs": []
    },
    {
      "cell_type": "code",
      "source": [
        "# Load and preprocess data\n",
        "train_datagen = ImageDataGenerator(rescale=1./255)\n",
        "test_datagen = ImageDataGenerator(rescale=1./255)\n",
        "\n",
        "train_generator = train_datagen.flow_from_directory(\n",
        "        '<path to train set>',\n",
        "        target_size=(224, 224),\n",
        "        batch_size=32,\n",
        "        class_mode='binary')\n",
        "\n",
        "test_generator = test_datagen.flow_from_directory(\n",
        "        '<path to test set>',\n",
        "        target_size=(224, 224),\n",
        "        batch_size=32,\n",
        "        class_mode='binary')"
      ],
      "metadata": {
        "id": "5ps-tp2HY7K_"
      },
      "execution_count": null,
      "outputs": []
    },
    {
      "cell_type": "code",
      "source": [
        "# Train the model\n",
        "model.fit(train_generator, epochs=5, validation_data=test_generator)"
      ],
      "metadata": {
        "id": "_sA8W8UeY-KP"
      },
      "execution_count": null,
      "outputs": []
    },
    {
      "cell_type": "code",
      "source": [
        "# Evaluate the model\n",
        "accuracy = model.evaluate(test_generator)[1]\n",
        "print(\"Test Accuracy:\", accuracy)"
      ],
      "metadata": {
        "id": "P3s-3cFTY_c9"
      },
      "execution_count": null,
      "outputs": []
    },
    {
      "cell_type": "code",
      "source": [
        "class_labels = {0: 'true', 1: 'false'}\n",
        "#/content/drive/MyDrive/mini project/cashew drive/basedata/testing\n",
        "def do_test(img_array):\n",
        "  predictions = model.predict(img_array)\n",
        "  predicted_class = int(predictions[0][0])\n",
        "  predicted_label = class_labels[predicted_class]\n",
        "  plt.imshow(img)\n",
        "  plt.title('Predicted class: ' + predicted_label)\n",
        "  plt.axis('off')\n",
        "  plt.show()"
      ],
      "metadata": {
        "id": "5oNPPPRomYUd"
      },
      "execution_count": null,
      "outputs": []
    },
    {
      "cell_type": "code",
      "source": [
        "for i in range(1,11):\n",
        "  img_path = '<path>' + str(i) + '.jpg'\n",
        "  img = image.load_img(img_path, target_size=(224, 224))\n",
        "  img_array = image.img_to_array(img)\n",
        "  img_array = np.expand_dims(img_array, axis=0)\n",
        "  img_array = preprocess_input(img_array)\n",
        "  do_test(img_array)\n",
        "\n",
        "# the path specified here contains 10 images named from 1-10. Each of the images is loaded and used for testing the model."
      ],
      "metadata": {
        "id": "aZHU0-2gnu3l",
        "collapsed": true
      },
      "execution_count": null,
      "outputs": []
    },
    {
      "cell_type": "code",
      "source": [],
      "metadata": {
        "id": "UNsNF33QOpJ5"
      },
      "execution_count": null,
      "outputs": []
    }
  ]
}